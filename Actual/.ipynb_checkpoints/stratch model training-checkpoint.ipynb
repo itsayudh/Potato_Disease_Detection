{
 "cells": [
  {
   "cell_type": "code",
   "execution_count": 1,
   "id": "60796ba2-e3eb-46f8-a00d-2a256fc97d17",
   "metadata": {},
   "outputs": [],
   "source": [
    "import os\n",
    "from PIL import Image\n",
    "import numpy as np"
   ]
  },
  {
   "cell_type": "code",
   "execution_count": 2,
   "id": "66ba6336-5805-46b5-b833-f217be496f50",
   "metadata": {},
   "outputs": [],
   "source": [
    "IMAGE_SIZE = 256\n",
    "CHANNELS = 3\n",
    "DATASET_PATH = \"PlantVillage\""
   ]
  },
  {
   "cell_type": "code",
   "execution_count": 3,
   "id": "67fa0467-1143-4238-8de3-7fa3dc6046ec",
   "metadata": {},
   "outputs": [],
   "source": [
    "#manually assigning the classses\n",
    "class_names=['healthy','early_blight','late_blight']"
   ]
  },
  {
   "cell_type": "code",
   "execution_count": 4,
   "id": "ca968490-0bc8-4321-9b2c-b1119afc3d88",
   "metadata": {},
   "outputs": [],
   "source": [
    "#label Mapping\n",
    "label_map = {\n",
    "    'healthy': 0,\n",
    "    'early_blight': 1,\n",
    "    'late_blight': 2\n",
    "}"
   ]
  },
  {
   "cell_type": "code",
   "execution_count": 5,
   "id": "5cab46b9-510d-458f-97f5-608622b4423e",
   "metadata": {},
   "outputs": [],
   "source": [
    "#storage\n",
    "images = []\n",
    "labels =[]"
   ]
  },
  {
   "cell_type": "code",
   "execution_count": 6,
   "id": "f6df37f6-ef17-4a57-84cb-e5ad6d3e48a1",
   "metadata": {},
   "outputs": [
    {
     "name": "stdout",
     "output_type": "stream",
     "text": [
      "Class Names: ['healthy', 'early_blight', 'late_blight']\n",
      "Images shape: (2152, 256, 256, 3)\n",
      "Labels shape: (2152,)\n"
     ]
    }
   ],
   "source": [
    "#loop through each class folder\n",
    "for class_name in class_names:\n",
    "    class_folder = os.path.join(DATASET_PATH, class_name)\n",
    "    label = label_map[class_name]\n",
    "\n",
    "    for file_name in os.listdir(class_folder):\n",
    "        file_path = os.path.join(class_folder, file_name)\n",
    "\n",
    "        try:\n",
    "            # Open, resize, convert to RGB\n",
    "            img = Image.open(file_path).convert('RGB')\n",
    "            img = img.resize((IMAGE_SIZE, IMAGE_SIZE))\n",
    "\n",
    "            # Convert to array and normalize\n",
    "            img_array = np.asarray(img, dtype=np.float32) / 255.0\n",
    "\n",
    "            # Store image and label\n",
    "            images.append(img_array)\n",
    "            labels.append(label)\n",
    "\n",
    "        except Exception as e:\n",
    "            print(f\"Skipping image {file_path}: {e}\")\n",
    "\n",
    "# Convert to numpy arrays\n",
    "images = np.array(images)\n",
    "labels = np.array(labels)\n",
    "\n",
    "print(\"Class Names:\", class_names)\n",
    "print(\"Images shape:\", images.shape)\n",
    "print(\"Labels shape:\", labels.shape)"
   ]
  },
  {
   "cell_type": "code",
   "execution_count": 13,
   "id": "9d4b81b2-d7ef-4a9c-be1f-5c114c7b1331",
   "metadata": {},
   "outputs": [
    {
     "data": {
      "text/plain": [
       "2152"
      ]
     },
     "execution_count": 13,
     "metadata": {},
     "output_type": "execute_result"
    }
   ],
   "source": [
    "BATCH_SIZE = 32\n",
    "# Create empty lists to store batches\n",
    "image_batches = []\n",
    "label_batches  = []\n",
    "\n",
    "total_images =len(images)# Get total number of images\n",
    "total_images"
   ]
  },
  {
   "cell_type": "code",
   "execution_count": 15,
   "id": "355f2290-4ff9-4f82-869b-e1f9ae975655",
   "metadata": {},
   "outputs": [
    {
     "name": "stdout",
     "output_type": "stream",
     "text": [
      "Total batches created: 204\n",
      "First batch shape: (32, 256, 256, 3)\n",
      "First batch labels: [0 0 0 0 0 0 0 0 0 0 0 0 0 0 0 0 0 0 0 0 0 0 0 0 0 0 0 0 0 0 0 0]\n"
     ]
    }
   ],
   "source": [
    "# Loop through all images and split them into batches\n",
    "for i in range(0, total_images, BATCH_SIZE):\n",
    "    # Get a batch of images and labels\n",
    "    image_batch = images[i:i + BATCH_SIZE]\n",
    "    label_batch = labels[i:i + BATCH_SIZE]\n",
    "\n",
    "    # Add batch to the list\n",
    "    image_batches.append(image_batch)\n",
    "    label_batches.append(label_batch)\n",
    "\n",
    "# Total number of batches\n",
    "total_batches = len(image_batches)\n",
    "\n",
    "print(\"Total batches created:\", total_batches)\n",
    "print(\"First batch shape:\", image_batches[0].shape)\n",
    "print(\"First batch labels:\", label_batches[0])"
   ]
  },
  {
   "cell_type": "code",
   "execution_count": 7,
   "id": "806fb43d-f896-485f-9d48-508b2880a220",
   "metadata": {},
   "outputs": [
    {
     "name": "stdout",
     "output_type": "stream",
     "text": [
      "Image batch shape: (32, 256, 256, 3)\n",
      "Labels batch: [0 0 0 0 0 0 0 0 0 0 0 0 0 0 0 0 0 0 0 0 0 0 0 0 0 0 0 0 0 0 0 0]\n"
     ]
    }
   ],
   "source": [
    "\n",
    "\n",
    "# # Take first batch of 32 images and labels\n",
    "# image_batch = images[:BATCH_SIZE]\n",
    "# labels_batch = labels[:BATCH_SIZE]\n",
    "\n",
    "# # Print shape of image batch\n",
    "# print(\"Image batch shape:\", image_batch.shape)  # Should be (32, 256, 256, 3)\n",
    "\n",
    "# # Print labels of this batch\n",
    "# print(\"Labels batch:\", labels_batch)"
   ]
  },
  {
   "cell_type": "code",
   "execution_count": null,
   "id": "dac342fd-1394-47d7-b871-a324129b155c",
   "metadata": {},
   "outputs": [],
   "source": []
  }
 ],
 "metadata": {
  "kernelspec": {
   "display_name": "Python 3 (ipykernel)",
   "language": "python",
   "name": "python3"
  },
  "language_info": {
   "codemirror_mode": {
    "name": "ipython",
    "version": 3
   },
   "file_extension": ".py",
   "mimetype": "text/x-python",
   "name": "python",
   "nbconvert_exporter": "python",
   "pygments_lexer": "ipython3",
   "version": "3.12.4"
  }
 },
 "nbformat": 4,
 "nbformat_minor": 5
}
